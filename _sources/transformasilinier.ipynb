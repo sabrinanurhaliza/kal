{
 "cells": [
  {
   "cell_type": "markdown",
   "metadata": {},
   "source": [
    "# TRANSFORMASI LINIER\n",
    "\n",
    "##### Pembuktian Transformasi Linier\n",
    "\n",
    "Kita akan membuktikan bahwa transformasi $T: \\mathbb{R}^2 \\rightarrow \\mathbb{R}^2$ yang didefinisikan oleh $T(v_1, v_2) = (v_1 + v_2, v_1)$ adalah transformasi linear. Untuk membuktikannya, kita perlu memverifikasi dua sifat dasar transformasi linear:\n",
    "\n",
    "##### Syarat Transformasi Linier\n",
    "\n",
    "Transformasi **\\( T \\)** dikatakan linier jika untuk semua vektor $$\\mathbf{a}, \\mathbf{b}$$ dan skalar **\\( c \\)**, berlaku:\n",
    "\n",
    "##### 1. Aditivitas (Penjumlahan)\n",
    "$$\n",
    " T(\\mathbf{a} + \\mathbf{b}) = T(\\mathbf{a}) + T(\\mathbf{b})\n",
    "$$\n",
    "untuk semua vektor $\\mathbf{u}, \\mathbf{v}$ dalam ruang vektor domain.\n",
    "\n",
    "##### 2. Homogenitas (Perkalian Skalar)\n",
    "$$\n",
    "T(c \\cdot \\mathbf{a}) = c \\cdot T(\\mathbf{a})\n",
    "$$\n",
    "untuk semua vektor $\\mathbf{u}$ dalam ruang vektor domain dan semua skalar $c$.\n",
    "\n",
    "##### Pembuktian\n",
    "\n",
    "##### Langkah 1: Verifikasi Aditivitas\n",
    "\n",
    "Misalkan:\n",
    "$\\mathbf{u} = (u_1, u_2)$ dan $\\mathbf{v} = (v_1, v_2)$ adalah dua vektor sembarang dalam $\\mathbb{R}^2$.\n",
    "\n",
    "* Hitung $T(\\mathbf{u} + \\mathbf{v})$:\n",
    "    $$\\mathbf{u} + \\mathbf{v} = (u_1 + v_1, u_2 + v_2)$$\n",
    "    $$T(\\mathbf{u} + \\mathbf{v}) = T(u_1 + v_1, u_2 + v_2) = ((u_1 + v_1) + (u_2 + v_2), (u_1 + v_1))$$\n",
    "    $$T(\\mathbf{u} + \\mathbf{v}) = (u_1 + v_1 + u_2 + v_2, u_1 + v_1)$$\n",
    "\n",
    "* Hitung $T(\\mathbf{u}) + T(\\mathbf{v})$:\n",
    "    $$T(\\mathbf{u}) = (u_1 + u_2, u_1)$$\n",
    "    $$T(\\mathbf{v}) = (v_1 + v_2, v_1)$$\n",
    "    $$T(\\mathbf{u}) + T(\\mathbf{v}) = (u_1 + u_2, u_1) + (v_1 + v_2, v_1) = (u_1 + u_2 + v_1 + v_2, u_1 + v_1)$$\n",
    "\n",
    "Karena $T(\\mathbf{u} + \\mathbf{v}) = (u_1 + v_1 + u_2 + v_2, u_1 + v_1)$ dan $T(\\mathbf{u}) + T(\\mathbf{v}) = (u_1 + v_1 + u_2 + v_2, u_1 + v_1)$, \n",
    "maka sifat aditivitas terpenuhi.\n",
    "\n",
    "**Syarat Aditif terpenuhi**\n",
    "\n",
    "##### Langkah 2: Verifikasi Homogenitas\n",
    "\n",
    "\n",
    "* Hitung $T(c\\mathbf{u})$:\n",
    "    $$c\\mathbf{u} = (cu_1, cu_2)$$\n",
    "    $$T(c\\mathbf{u}) = T(cu_1, cu_2) = (cu_1 + cu_2, cu_1)$$\n",
    "    $$T(c\\mathbf{u}) = (c(u_1 + u_2), cu_1)$$\n",
    "\n",
    "* Hitung $cT(\\mathbf{u})$:\n",
    "    $$T(\\mathbf{u}) = (u_1 + u_2, u_1)$$\n",
    "    $$cT(\\mathbf{u}) = c(u_1 + u_2, u_1) = (c(u_1 + u_2), c(u_1))$$\n",
    "    $$cT(\\mathbf{u}) = (cu_1 + cu_2, cu_1)$$\n",
    "\n",
    "Karena $T(c\\mathbf{u}) = (cu_1 + cu_2, cu_1)$ dan $cT(\\mathbf{u}) = (cu_1 + cu_2, cu_1)$, maka sifat homogenitas terpenuhi.\n",
    "\n",
    "**Syarat Homogen Terpenuhi**\n",
    "\n",
    "##### Kesimpulan:\n",
    "\n",
    "Karena transformasi $T(v_1, v_2) = (v_1 + v_2, v_1)$ memenuhi kedua sifat aditivitas dan homogenitas, maka dapat disimpulkan bahwa $T$ adalah transformasi linear.\n",
    "\n",
    "$$\n",
    "\\boxed{T \\text{ adalah transformasi linier.}}\n",
    "$$\n",
    "\n"
   ]
  }
 ],
 "metadata": {
  "kernelspec": {
   "display_name": "Python 3",
   "language": "python",
   "name": "python3"
  },
  "language_info": {
   "codemirror_mode": {
    "name": "ipython",
    "version": 3
   },
   "file_extension": ".py",
   "mimetype": "text/x-python",
   "name": "python",
   "nbconvert_exporter": "python",
   "pygments_lexer": "ipython3",
   "version": "3.12.1"
  },
  "widgets": {
   "application/vnd.jupyter.widget-state+json": {
    "state": {},
    "version_major": 2,
    "version_minor": 0
   }
  }
 },
 "nbformat": 4,
 "nbformat_minor": 4
}
