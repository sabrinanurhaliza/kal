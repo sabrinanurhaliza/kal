{
 "cells": [
  {
   "cell_type": "markdown",
   "metadata": {},
   "source": [
    "# METODE ELIMINASI GAUS\n",
    "\n",
    "##### Penyelesaian Sistem Persamaan Linear dengan Eliminasi Gauss\n",
    "###### Diketahui sistem persamaan linear:\n",
    "$\\begin{aligned}  \n",
    "    x + y + z = 6 \\\\  \n",
    "    2x + 3y + z = 14 \\\\  \n",
    "    x - y + 2z = 8  \n",
    "\\end{aligned}$\n",
    "\n",
    "###### Penyelesaian\n",
    "1. Bentuk matriks augmented:\n",
    "\n",
    "$\\begin{bmatrix}  \n",
    "1 & 1 & 1 & |6 \\\\  \n",
    "2 & 3 & 1 & |14 \\\\  \n",
    "1 & -1 & 2 & |8  \n",
    "\\end{bmatrix}$\n",
    "\n",
    "2. Eliminasi Gauss\n",
    "Langkah 1: NOL-kan Elemen di bawah Elemen Pivot Pertama\n",
    "Pivot pertama adalah 1 di posisi (1,1). Kita buat elemen di bawahnya menjadi nol:\n",
    "\n",
    "Hasilnya:\n",
    "$\\begin{bmatrix}  \n",
    "1 & 1 & 1 & |6 \\\\  \n",
    "0 & 1 & -1 & |2 \\\\  \n",
    "0 & -2 & 1 & |2  \n",
    "\\end{bmatrix}$\n",
    "\n",
    "Langkah 2: NOL-kan Elemen di bawah Pivot Kedua\n",
    "Pivot kedua adalah 1 di posisi (2,2). Kita buat elemen di bawahnya menjadi nol:\n",
    "\n",
    "Hasilnya:\n",
    "$\\begin{bmatrix}  \n",
    "1 & 1 & 1 & |6 \\\\  \n",
    "0 & 1 & -1 & |2 \\\\  \n",
    "0 & 0 & -1 & |6  \n",
    "\\end{bmatrix}$\n",
    "\n",
    "Langkah 3: Buat Pivot Ketiga Menjadi 1\n",
    "\n",
    "Sehingga:\n",
    "$\\begin{bmatrix}  \n",
    "1 & 1 & 1 & |6 \\\\  \n",
    "0 & 1 & -1 & |2 \\\\  \n",
    "0 & 0 & 1 & |-6  \n",
    "\\end{bmatrix}$\n",
    "\n",
    "Substitusi Mundur (Back Substitution)\n",
    "Dari baris ketiga:\n",
    "\n",
    "z = -6\n",
    "\n",
    "Dari baris kedua:\n",
    "\n",
    "y − (−6) = 2 ⇒ y + 6 = 2 ⇒ y = −4\n",
    "\n",
    "Dari baris pertama:\n",
    "x + (-4) + (-6) = 6\n",
    "x - 4 - 6 = 6\n",
    "x = 16\n",
    "\n",
    "Solusi Akhir\n",
    "(x, y, z) = (16, -4, -6)\n",
    "\n",
    "\n",
    "<iframe src=\"https://www.geogebra.org/classic/awrbqz32?embed\" width=\"800\" height=\"600\" allowfullscreen style=\"border: 1px solid #e4e4e4;border-radius: 4px;\" frameborder=\"0\"></iframe>\n"
   ]
  }
 ],
 "metadata": {
  "kernelspec": {
   "display_name": "Python 3",
   "language": "python",
   "name": "python3"
  },
  "language_info": {
   "codemirror_mode": {
    "name": "ipython",
    "version": 3
   },
   "file_extension": ".py",
   "mimetype": "text/x-python",
   "name": "python",
   "nbconvert_exporter": "python",
   "pygments_lexer": "ipython3",
   "version": "3.12.1"
  },
  "widgets": {
   "application/vnd.jupyter.widget-state+json": {
    "state": {},
    "version_major": 2,
    "version_minor": 0
   }
  }
 },
 "nbformat": 4,
 "nbformat_minor": 4
}
